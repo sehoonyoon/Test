{
  "nbformat": 4,
  "nbformat_minor": 0,
  "metadata": {
    "colab": {
      "provenance": [],
      "gpuType": "T4",
      "authorship_tag": "ABX9TyPhD2PaF7VH1auXkeDsYPQU",
      "include_colab_link": true
    },
    "kernelspec": {
      "name": "python3",
      "display_name": "Python 3"
    },
    "language_info": {
      "name": "python"
    },
    "accelerator": "GPU",
    "gpuClass": "standard"
  },
  "cells": [
    {
      "cell_type": "markdown",
      "metadata": {
        "id": "view-in-github",
        "colab_type": "text"
      },
      "source": [
        "<a href=\"https://colab.research.google.com/github/sehoonyoon/Test/blob/main/5_23.ipynb\" target=\"_parent\"><img src=\"https://colab.research.google.com/assets/colab-badge.svg\" alt=\"Open In Colab\"/></a>"
      ]
    },
    {
      "cell_type": "code",
      "execution_count": null,
      "metadata": {
        "colab": {
          "base_uri": "https://localhost:8080/",
          "height": 525
        },
        "id": "NdXV2Y_XNy-F",
        "outputId": "740835d9-4012-4334-fde7-500f56a2271e"
      },
      "outputs": [
        {
          "output_type": "stream",
          "name": "stdout",
          "text": [
            "Downloading data from https://storage.googleapis.com/tensorflow/tf-keras-datasets/mnist.npz\n",
            "11490434/11490434 [==============================] - 0s 0us/step\n",
            "(60000, 28, 28) (10000, 28, 28)\n"
          ]
        },
        {
          "output_type": "display_data",
          "data": {
            "text/plain": [
              "<Figure size 640x480 with 1 Axes>"
            ],
            "image/png": "[encoded data removed]"
          },
          "metadata": {}
        },
        {
          "output_type": "stream",
          "name": "stdout",
          "text": [
            "(60000, 784) (10000, 784)\n"
          ]
        }
      ],
      "source": [
        "import numpy as np\n",
        "import matplotlib.pyplot as plt\n",
        "from keras.datasets import mnist\n",
        "\n",
        "(x_train, t_train),(x_test,t_test) = mnist.load_data()    # MNIST 읽어 들이기\n",
        "print(x_train.shape,x_test.shape)   # 28x28의 손으로 쓴 문자 이미지가 6만장\n",
        "\n",
        "# 각 필셀의 값을 -1에서 1의 범위에 넣는다\n",
        "x_train = x_train / 255 * 2 - 1\n",
        "x_test = x_test / 255 * 2 - 1\n",
        "\n",
        "# 손으로 쓴 문자 이미지의 표시\n",
        "plt.imshow(x_train[0].reshape(28,28),cmap=\"gray\")\n",
        "plt.title(t_train[0])\n",
        "plt.show()\n",
        "\n",
        "# 1차원으로 변환한다\n",
        "x_train = x_train.reshape(x_train.shape[0],-1)\n",
        "x_test = x_test.reshape(x_test.shape[0],-1)\n",
        "print(x_train.shape,x_test.shape)"
      ]
    },
    {
      "cell_type": "code",
      "source": [
        "n_learn = 20001 # 학습 횟수\n",
        "interval = 2000 # 이미지를 생성하는 간격\n",
        "batch_size = 32\n",
        "n_noize = 128 # 노이지의 수\n",
        "img_size = 28 # 생성되는 이미지의 높이와 폭\n",
        "alpha = 0.2 # Leaky ReLU의 음의 영역에서의 기울기\n",
        "\n",
        "from tensorflow.python.keras.optimizers import adam_v2\n",
        "optimizer = adam_v2.Adam(0.002, 0.5)"
      ],
      "metadata": {
        "id": "vYYh2WbATomS"
      },
      "execution_count": null,
      "outputs": []
    },
    {
      "cell_type": "code",
      "source": [
        "from tensorflow.python.keras.models import Sequential\n",
        "from tensorflow.python.keras.layers import Dense, LeakyReLU\n",
        "\n",
        "# Genenrator의 망 구축\n",
        "generator = Sequential()\n",
        "generator.add(Dense(256, input_shape=(n_noize,)))\n",
        "generator.add(LeakyReLU(alpha=alpha))\n",
        "generator.add(Dense(512))\n",
        "generator.add(LeakyReLU(alpha=alpha))\n",
        "generator.add(Dense(1024))\n",
        "generator.add(LeakyReLU(alpha=alpha))\n",
        "generator.add(Dense(img_size**2,activation=\"tanh\"))\n",
        "print(generator . summary())"
      ],
      "metadata": {
        "colab": {
          "base_uri": "https://localhost:8080/"
        },
        "id": "9mO55lVzU-qe",
        "outputId": "1f9a2bea-140d-4ffe-e623-f453a1808cbb"
      },
      "execution_count": null,
      "outputs": [
        {
          "output_type": "stream",
          "name": "stdout",
          "text": [
            "Model: \"sequential\"\n",
            "_________________________________________________________________\n",
            "Layer (type)                 Output Shape              Param #   \n",
            "=================================================================\n",
            "dense (Dense)                (None, 256)               33024     \n",
            "_________________________________________________________________\n",
            "leaky_re_lu (LeakyReLU)      (None, 256)               0         \n",
            "_________________________________________________________________\n",
            "dense_1 (Dense)              (None, 512)               131584    \n",
            "_________________________________________________________________\n",
            "leaky_re_lu_1 (LeakyReLU)    (None, 512)               0         \n",
            "_________________________________________________________________\n",
            "dense_2 (Dense)              (None, 1024)              525312    \n",
            "_________________________________________________________________\n",
            "leaky_re_lu_2 (LeakyReLU)    (None, 1024)              0         \n",
            "_________________________________________________________________\n",
            "dense_3 (Dense)              (None, 784)               803600    \n",
            "=================================================================\n",
            "Total params: 1,493,520\n",
            "Trainable params: 1,493,520\n",
            "Non-trainable params: 0\n",
            "_________________________________________________________________\n",
            "None\n"
          ]
        }
      ]
    },
    {
      "cell_type": "code",
      "source": [
        "\n",
        "# Discriminator의 망 구축\n",
        "discriminator = Sequential()\n",
        "discriminator.add(Dense(512, input_shape=(img_size**2,)))\n",
        "discriminator.add(LeakyReLU(alpha=alpha))\n",
        "discriminator.add(Dense(256))\n",
        "discriminator.add(LeakyReLU(alpha=alpha))\n",
        "discriminator.add(Dense(1, activation=\"sigmoid\"))\n",
        "discriminator.compile(loss=\"binary_crossentropy\", optimizer=optimizer, metrics=[\"accuracy\"])\n",
        "print(discriminator.summary())"
      ],
      "metadata": {
        "colab": {
          "base_uri": "https://localhost:8080/"
        },
        "id": "EQr5eM7VWxg4",
        "outputId": "4b5e9abb-4189-4b6c-e8e9-88f491535679"
      },
      "execution_count": null,
      "outputs": [
        {
          "output_type": "stream",
          "name": "stdout",
          "text": [
            "Model: \"sequential_1\"\n",
            "_________________________________________________________________\n",
            "Layer (type)                 Output Shape              Param #   \n",
            "=================================================================\n",
            "dense_4 (Dense)              (None, 512)               401920    \n",
            "_________________________________________________________________\n",
            "leaky_re_lu_3 (LeakyReLU)    (None, 512)               0         \n",
            "_________________________________________________________________\n",
            "dense_5 (Dense)              (None, 256)               131328    \n",
            "_________________________________________________________________\n",
            "leaky_re_lu_4 (LeakyReLU)    (None, 256)               0         \n",
            "_________________________________________________________________\n",
            "dense_6 (Dense)              (None, 1)                 257       \n",
            "=================================================================\n",
            "Total params: 533,505\n",
            "Trainable params: 533,505\n",
            "Non-trainable params: 0\n",
            "_________________________________________________________________\n",
            "None\n"
          ]
        }
      ]
    },
    {
      "cell_type": "code",
      "source": [
        "from tensorflow.python.keras.models import Model\n",
        "from tensorflow.python.keras.layers import Input\n",
        "\n",
        "# 결합 사는 Generator만 훈련한다\n",
        "discriminator.trainable = False\n",
        "\n",
        "# Generator에 의해 노이즈로부터 생성된 이미지를 Discriminator가 판정한다\n",
        "noise = Input(shape=(n_noize,))\n",
        "img = generator(noise)\n",
        "reality = discriminator(img)\n",
        "\n",
        "# Generator와 Discriminator의 결합\n",
        "combined = Model(noise, reality)\n",
        "combined.compile(loss=\"binary_crossentropy\" , optimizer=optimizer)\n",
        "print(combined.summary())"
      ],
      "metadata": {
        "colab": {
          "base_uri": "https://localhost:8080/"
        },
        "id": "PXdkllA9alPB",
        "outputId": "0af8de75-f245-45c2-ac6b-601f4f73622d"
      },
      "execution_count": null,
      "outputs": [
        {
          "output_type": "stream",
          "name": "stdout",
          "text": [
            "Model: \"model\"\n",
            "_________________________________________________________________\n",
            "Layer (type)                 Output Shape              Param #   \n",
            "=================================================================\n",
            "input_1 (InputLayer)         [(None, 128)]             0         \n",
            "_________________________________________________________________\n",
            "sequential (Sequential)      (None, 784)               1493520   \n",
            "_________________________________________________________________\n",
            "sequential_1 (Sequential)    (None, 1)                 533505    \n",
            "=================================================================\n",
            "Total params: 2,027,025\n",
            "Trainable params: 1,493,520\n",
            "Non-trainable params: 533,505\n",
            "_________________________________________________________________\n",
            "None\n"
          ]
        }
      ]
    },
    {
      "cell_type": "code",
      "source": [
        "def generate_images(i):\n",
        "    n_rows = 5    # 행 수\n",
        "    n_cols = 5    # 열 수\n",
        "    noise = np.random.normal(0,1, (n_rows*n_cols, n_noize))\n",
        "    g_imgs = generator.predict(noise)\n",
        "    g_imgs = g_imgs/2 + 0.5   # 0-1의 범위로 한다\n",
        "\n",
        "    matrix_image = np.zeros((img_size*n_rows, img_size*n_cols))   # 전체의 이미지\n",
        "\n",
        "    # 생성된 이미지를 나열해 1장의 이미지로 한다\n",
        "    for r in range(n_rows):\n",
        "        for c in range(n_cols):\n",
        "            g_img = g_imgs[r*n_cols + c].reshape(img_size, img_size)\n",
        "            matrix_image[r*img_size : (r+1)*img_size, c*img_size: (c+1)*img_size] = g_img\n",
        "\n",
        "    plt.figure(figsize=(10,10))\n",
        "    plt.imshow(matrix_image, cmap=\"Greys_r\")\n",
        "    plt.tick_params(labelbottom=False, labelleft=False,bottom=False, left=False)    # 축 눈금의 라벨과 선을 지운다\n",
        "    plt.show()"
      ],
      "metadata": {
        "id": "NAgK7gZBcVNM"
      },
      "execution_count": null,
      "outputs": []
    },
    {
      "cell_type": "code",
      "source": [
        "batch_half = batch_size // 2\n",
        "\n",
        "loss_record = np.zeros((n_learn, 3))\n",
        "acc_record = np.zeros((n_learn, 2))\n",
        "\n",
        "for i in range(n_learn):\n",
        "\n",
        " # 노이즈로부터 이미지를 생성해 Discriminator를 훈현\n",
        "    g_noise = np.random.normal(0,1, (batch_half, n_noize))\n",
        "    g_imgs = generator.predict(g_noise)\n",
        "    loss_fake, acc_fake = discriminator.train_on_batch(g_imgs,np.zeros((batch_half,1)))\n",
        "    loss_record[i][0] = loss_fake\n",
        "    acc_record[i][0] = acc_fake\n",
        "\n",
        "    # 진짜 이미지를 사용해서 Discriminator를 훈련\n",
        "    rand_ids = np.random.randint(len(x_train), size=batch_half)\n",
        "    real_imgs = x_train[rand_ids, :]\n",
        "    loss_real, acc_real = discriminator.train_on_batch(real_imgs, np.ones((batch_half,1)))\n",
        "    loss_record[i][1] = loss_real\n",
        "    acc_record[i][1] = acc_real\n",
        "\n",
        "    # 결합한 모델에 의해 Generator를 훈련\n",
        "    c_noise = np.random.normal(0,1,(batch_size, n_noize))\n",
        "    loss_comb = combined.train_on_batch(c_noise, np.ones((batch_size, 1)))\n",
        "    loss_record[i][2] = loss_comb\n",
        "\n",
        "    # 일정 간격으로 생성된 이미지를 표시\n",
        "    if i % interval ==0:\n",
        "        print(\"n_learn:\", i)\n",
        "        print(\"loss_fake:\", loss_fake, \"acc_fake:\", acc_fake)\n",
        "        print(\"loss_real:\", loss_real, \"acc_real:\", acc_real)\n",
        "        print(\"loss_comb:\", loss_comb)\n",
        "\n",
        "generate_images(i)\n",
        "\n"
      ],
      "metadata": {
        "id": "W2KlkaUpcVS6",
        "colab": {
          "base_uri": "https://localhost:8080/",
          "height": 1000
        },
        "outputId": "b472b3ae-bbf7-4209-cb3a-39eb88ba5085"
      },
      "execution_count": null,
      "outputs": [
        {
          "output_type": "stream",
          "name": "stdout",
          "text": [
            "n_learn: 0\n",
            "loss_fake: 0.6672244071960449 acc_fake: 0.75\n",
            "loss_real: 4.393840789794922 acc_real: 0.0\n",
            "loss_comb: 2.932199001312256\n",
            "n_learn: 2000\n",
            "loss_fake: 5.868358812222141e-07 acc_fake: 1.0\n",
            "loss_real: 1.103625137943709e-07 acc_real: 1.0\n",
            "loss_comb: 14.350717544555664\n",
            "n_learn: 4000\n",
            "loss_fake: 2.7554800908546895e-05 acc_fake: 1.0\n",
            "loss_real: 5.185003101360053e-05 acc_real: 1.0\n",
            "loss_comb: 10.610681533813477\n",
            "n_learn: 6000\n",
            "loss_fake: 7.942560387164121e-07 acc_fake: 1.0\n",
            "loss_real: 9.54025949795323e-07 acc_real: 1.0\n",
            "loss_comb: 14.07365608215332\n",
            "n_learn: 8000\n",
            "loss_fake: 6.218505888000436e-08 acc_fake: 1.0\n",
            "loss_real: 2.9681248747692734e-07 acc_real: 1.0\n",
            "loss_comb: 16.594388961791992\n",
            "n_learn: 10000\n",
            "loss_fake: 6.819539703428745e-05 acc_fake: 1.0\n",
            "loss_real: 3.041435411432758e-05 acc_real: 1.0\n",
            "loss_comb: 14.108298301696777\n",
            "n_learn: 12000\n",
            "loss_fake: 0.0 acc_fake: 1.0\n",
            "loss_real: 0.0 acc_real: 1.0\n",
            "loss_comb: 278.247802734375\n",
            "n_learn: 14000\n",
            "loss_fake: 1.695613475521576e-22 acc_fake: 1.0\n",
            "loss_real: 2.7547335377960526e-18 acc_real: 1.0\n",
            "loss_comb: 86.85983276367188\n",
            "n_learn: 16000\n",
            "loss_fake: 0.0 acc_fake: 1.0\n",
            "loss_real: 0.0 acc_real: 1.0\n",
            "loss_comb: 1539.4736328125\n",
            "n_learn: 18000\n",
            "loss_fake: 0.0 acc_fake: 1.0\n",
            "loss_real: 1.3354049288883052e-33 acc_real: 1.0\n",
            "loss_comb: 496.30975341796875\n",
            "n_learn: 20000\n",
            "loss_fake: 0.0 acc_fake: 1.0\n",
            "loss_real: 7.761320921733984e-25 acc_real: 1.0\n",
            "loss_comb: 532.9298706054688\n"
          ]
        },
        {
          "output_type": "display_data",
          "data": {
            "text/plain": [
              "<Figure size 1000x1000 with 1 Axes>"
            ],
            "image/png": "[encoded data removed]"
          },
          "metadata": {}
        }
      ]
    }
  ]
}