{
  "nbformat": 4,
  "nbformat_minor": 0,
  "metadata": {
    "colab": {
      "provenance": [],
      "authorship_tag": "ABX9TyNVz6jm5t6buE6uD/cwAnIu",
      "include_colab_link": true
    },
    "kernelspec": {
      "name": "python3",
      "display_name": "Python 3"
    },
    "language_info": {
      "name": "python"
    }
  },
  "cells": [
    {
      "cell_type": "markdown",
      "metadata": {
        "id": "view-in-github",
        "colab_type": "text"
      },
      "source": [
        "<a href=\"https://colab.research.google.com/github/sehoonyoon/Test/blob/main/%ED%8C%8C%EC%9D%B4%EC%8D%AC_%EA%B3%BC%EC%A0%9C%EC%9D%98_%EC%82%AC%EB%B3%B8.ipynb\" target=\"_parent\"><img src=\"https://colab.research.google.com/assets/colab-badge.svg\" alt=\"Open In Colab\"/></a>"
      ]
    },
    {
      "cell_type": "code",
      "execution_count": null,
      "metadata": {
        "colab": {
          "base_uri": "https://localhost:8080/"
        },
        "id": "NE_hK7Ge_tWh",
        "outputId": "e3b3b05d-1249-4a44-c7c7-d2c8f5d00f20"
      },
      "outputs": [
        {
          "output_type": "stream",
          "name": "stdout",
          "text": [
            "알파벳 입력하시오a\n",
            "a 는 모음입니다.\n"
          ]
        }
      ],
      "source": [
        "x=str(input('알파벳 입력하시오'))\n",
        "if x =='a':\n",
        "  print(x,'는 모음입니다.')\n",
        "elif x == 'e':\n",
        "  print(x,'는 모음입니다.')\n",
        "elif x == 'i':\n",
        "  print(x,'는 모음입니다.')\n",
        "elif x == 'o':\n",
        "  print(x,'는 모음입니다.')\n",
        "elif x == 'u':\n",
        "  print(x,'는 모음입니다.')\n",
        "else :\n",
        "  print('자음입니다.')"
      ]
    },
    {
      "cell_type": "code",
      "source": [
        "a,b,c=input().split(' ')\n",
        "if a<b<c:\n",
        "  print(c,b,a)\n",
        "elif a<c<b:\n",
        "  print(b,c,a)\n",
        "elif b<a<c:\n",
        "  print(c,a,b)\n",
        "elif b<c<a:\n",
        "  print(a,c,b)\n",
        "elif c<a<b:\n",
        "  print(b,a,c)\n",
        "elif c<b<a:\n",
        "  print(a,b,c)\n",
        "\n",
        "\n",
        "\n",
        "\n",
        "  "
      ],
      "metadata": {
        "colab": {
          "base_uri": "https://localhost:8080/"
        },
        "id": "5LG5l7EGD4Ao",
        "outputId": "4c8c341a-0547-49e9-9031-224bd1b8474b"
      },
      "execution_count": null,
      "outputs": [
        {
          "output_type": "stream",
          "name": "stdout",
          "text": [
            "9 122 4\n",
            "9 4 122\n"
          ]
        }
      ]
    },
    {
      "cell_type": "code",
      "source": [
        "age = int(input('나이를 입력하시오'))\n",
        "if age>=20:\n",
        "  print('Adult')\n",
        "elif 10<=age<20:\n",
        "  print('Youth')\n",
        "else :\n",
        "  print('kid')"
      ],
      "metadata": {
        "colab": {
          "base_uri": "https://localhost:8080/"
        },
        "id": "X7ATabjSCSph",
        "outputId": "1c95c188-f747-4f65-de14-321ecc4776e7"
      },
      "execution_count": null,
      "outputs": [
        {
          "output_type": "stream",
          "name": "stdout",
          "text": [
            "나이를 입력하시오32\n",
            "Adult\n"
          ]
        }
      ]
    },
    {
      "cell_type": "code",
      "source": [
        "a = int\n",
        " (input('정수를 입력하시오 : '))\n",
        "if a % 2 == 0 :\n",
        "  print(a,'는 2로 나누어 집니다.')\n",
        "else :\n",
        "  print(a,'는 2로 나누어지지 않습니다.')\n",
        "\n",
        "if a % 3 == 0 :\n",
        "  print(a,'는 3으로 나누어집니다.')\n",
        "else :\n",
        "  print(a,'는 3으로 나누어 집니다.')\n",
        "\n",
        "if a % 2 == 0 and a % 3 == 0 :\n",
        "  print(a, '2과3 모두로 나누어 집니다.')\n",
        "else  :\n",
        "  print(a, '2과3 모두로 나누어지지 않습니다..')"
      ],
      "metadata": {
        "colab": {
          "base_uri": "https://localhost:8080/"
        },
        "id": "ktSjVCDBarXK",
        "outputId": "fe0d3e09-2f3a-4da1-9f92-ed3b6568c562"
      },
      "execution_count": null,
      "outputs": [
        {
          "output_type": "stream",
          "name": "stdout",
          "text": [
            "정수를 입력하시오 : 15\n",
            "15 는 2로 나누어지지 않습니다.\n",
            "15 는 3으로 나누어집니다.\n",
            "15 2과3 모두로 나누어지지 않습니다..\n"
          ]
        }
      ]
    },
    {
      "cell_type": "code",
      "source": [
        "print('우리식당에 오신것을 환영합니다, 메뉴는 다음과 같습니다.')\n",
        "print('b)햄버거 c)치킨 p)피자')\n",
        "order = (input('b, c, p 메뉴 선택'))\n",
        "while order != 'b' and order != 'c' and order != 'p':\n",
        "        order = input('메뉴를 선택하시오,:')\n",
        "if order == 'b':\n",
        "  print('햄버거를 선택하였습니다.')\n",
        "if order == 'c':\n",
        "    print('치킨을 선택하였습니다.')\n",
        "if order == 'p':\n",
        "   print('피자를 선택하였습니다.')\n",
        "else:\n",
        "   print(\"선택한 메뉴가 없습니다.\")"
      ],
      "metadata": {
        "colab": {
          "base_uri": "https://localhost:8080/"
        },
        "id": "_8goZRGfvGK8",
        "outputId": "f520d7f5-98c9-4eb3-a1b4-807df0413f96"
      },
      "execution_count": null,
      "outputs": [
        {
          "output_type": "stream",
          "name": "stdout",
          "text": [
            "우리식당에 오신것을 환영합니다, 메뉴는 다음과 같습니다.\n",
            "b)햄버거 c)치킨 p)피자\n",
            "b, c, p 메뉴 선택c\n",
            "치킨을 선택하였습니다.\n",
            "선택한 메뉴가 없습니다.\n"
          ]
        }
      ]
    },
    {
      "cell_type": "code",
      "source": [],
      "metadata": {
        "id": "JQy8Rmhe_LKg"
      },
      "execution_count": null,
      "outputs": []
    },
    {
      "cell_type": "code",
      "source": [
        "print('1)덧셈 2)뺄셈 3)곱셈 4)나눗셈')\n",
        "s = int(input('어떤 연산을 원하는지 번호를 입력하세여: '))\n",
        "x, y = map(int, input('연산을 원하는 숫자 두 개를 입력하시오').split())\n",
        "if s == 1 :\n",
        "  print(x, '+', y, '=', x+y)\n",
        "elif s == 2 :\n",
        "  print(x, '-', y, '=', x-y)\n",
        "elif s == 3 :\n",
        "  print(x, '+', y, '=', x+y)\n",
        "elif s == 4 :\n",
        "  print(x, '/', y, '=', x/y)\n",
        "else:\n",
        "  print('잘못 입력하였습니다.')"
      ],
      "metadata": {
        "colab": {
          "base_uri": "https://localhost:8080/"
        },
        "id": "M7Y_8j5z1PK8",
        "outputId": "94432318-1c96-4b45-bd77-9bed6762a599"
      },
      "execution_count": null,
      "outputs": [
        {
          "output_type": "stream",
          "name": "stdout",
          "text": [
            "1)덧셈 2)뺄셈 3)곱셈 4)나눗셈\n",
            "어떤 연산을 원하는지 번호를 입력하세여: 4\n",
            "연산을 원하는 숫자 두 개를 입력하시오3 4\n",
            "3 / 4 = 0.75\n"
          ]
        }
      ]
    }
  ]
}