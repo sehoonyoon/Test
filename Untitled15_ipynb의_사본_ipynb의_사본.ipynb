{
  "nbformat": 4,
  "nbformat_minor": 0,
  "metadata": {
    "colab": {
      "provenance": [],
      "authorship_tag": "ABX9TyN5I9qWoNoyYH5om9sjWqC+",
      "include_colab_link": true
    },
    "kernelspec": {
      "name": "python3",
      "display_name": "Python 3"
    },
    "language_info": {
      "name": "python"
    }
  },
  "cells": [
    {
      "cell_type": "markdown",
      "metadata": {
        "id": "view-in-github",
        "colab_type": "text"
      },
      "source": [
        "<a href=\"https://colab.research.google.com/github/sehoonyoon/Test/blob/main/Untitled13_ipynb%EC%9D%98_%EC%82%AC%EB%B3%B8_ipynb%EC%9D%98_%EC%82%AC%EB%B3%B8.ipynb\" target=\"_parent\"><img src=\"https://colab.research.google.com/assets/colab-badge.svg\" alt=\"Open In Colab\"/></a>"
      ]
    },
    {
      "cell_type": "code",
      "execution_count": null,
      "metadata": {
        "id": "dd-hM3K9sbeN"
      },
      "outputs": [],
      "source": [
        "ㅁㅁㅁㄹㄴㅇㄹㄴㅇㄹㅇㄴㅇㄴㄹㅇㄴㄹㄴㅇㄹㄹㅁㄹㅇㅁㅀㄶㄱㅎㄴㄴ"
      ]
    },
    {
      "cell_type": "code",
      "source": [
        "ㄹㄴㅇㄹㄴㅇㄹㄴㅇㄹㄴㅇㄹㅇㄴㄹㄴㅇㄹㄴㅇㄹㄴㅇㄹㄹㄹ"
      ],
      "metadata": {
        "id": "xFj_LqEouXhG"
      },
      "execution_count": null,
      "outputs": []
    },
    {
      "cell_type": "code",
      "source": [
        "ㅇㅎㄷㄱㅎㅇㅀㄹ"
      ],
      "metadata": {
        "id": "LIltZxIFtO0H"
      },
      "execution_count": null,
      "outputs": []
    },
    {
      "cell_type": "code",
      "source": [
        "ㄹㅇㄴㄹㄴㄹㄴㄴ"
      ],
      "metadata": {
        "id": "OXpothLescsY"
      },
      "execution_count": null,
      "outputs": []
    }
  ]
}
